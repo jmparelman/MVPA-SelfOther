{
 "cells": [
  {
   "cell_type": "markdown",
   "metadata": {},
   "source": [
    "# Ridge-PCA analysis for MPFC Data\n",
    "\n",
    "```\n",
    "By: Jake M. Parelman\n",
    "Final Edit: 06/30/2021\n",
    "```"
   ]
  },
  {
   "cell_type": "code",
   "execution_count": 3,
   "metadata": {
    "scrolled": true
   },
   "outputs": [
    {
     "name": "stderr",
     "output_type": "stream",
     "text": [
      "/usr/local/anaconda3/lib/python3.7/site-packages/nilearn/datasets/__init__.py:90: FutureWarning: Fetchers from the nilearn.datasets module will be updated in version 0.9 to return python strings instead of bytes and Pandas dataframes instead of Numpy arrays.\n",
      "  \"Numpy arrays.\", FutureWarning)\n"
     ]
    }
   ],
   "source": [
    "from sklearn.decomposition import PCA\n",
    "from sklearn.linear_model import LogisticRegression\n",
    "from sklearn.model_selection import GridSearchCV, StratifiedKFold\n",
    "from sklearn.metrics import make_scorer, accuracy_score\n",
    "from sklearn import preprocessing\n",
    "\n",
    "import pandas as pd \n",
    "import numpy as np\n",
    "import pickle\n",
    "import random \n",
    "import glob\n",
    "\n",
    "from nilearn import plotting, image, input_data\n",
    "\n",
    "import matplotlib.pyplot as plt\n",
    "\n",
    "%matplotlib inline\n",
    "\n",
    "from statsmodels.stats.multitest import multipletests\n",
    "from scipy.stats import pearsonr"
   ]
  },
  {
   "cell_type": "markdown",
   "metadata": {},
   "source": [
    "### Load Data"
   ]
  },
  {
   "cell_type": "code",
   "execution_count": 4,
   "metadata": {},
   "outputs": [],
   "source": [
    "X_train = np.load('../Data/mpfc_training_X.npy')\n",
    "y_train = np.load('../Data/mpfc_training_y.npy')\n",
    "\n",
    "X_test = np.load('../Data/mpfc_testing_X.npy')\n",
    "y_test = np.load('../Data/mpfc_testing_y.npy')"
   ]
  },
  {
   "cell_type": "markdown",
   "metadata": {},
   "source": [
    "### PCA"
   ]
  },
  {
   "cell_type": "code",
   "execution_count": 5,
   "metadata": {},
   "outputs": [],
   "source": [
    "mpfc_pca = PCA()"
   ]
  },
  {
   "cell_type": "code",
   "execution_count": 6,
   "metadata": {},
   "outputs": [],
   "source": [
    "# Scale data\n",
    "X_train_mc = preprocessing.StandardScaler().fit_transform(X_train)\n",
    "X_test_mc = preprocessing.StandardScaler().fit_transform(X_test)\n",
    "\n",
    "# Fit PCA\n",
    "X_train = mpfc_pca.fit_transform(X_train)\n",
    "X_test = mpfc_pca.transform(X_test)"
   ]
  },
  {
   "cell_type": "markdown",
   "metadata": {},
   "source": [
    "### Model Tuning and Training"
   ]
  },
  {
   "cell_type": "code",
   "execution_count": 7,
   "metadata": {},
   "outputs": [],
   "source": [
    "# cross validation and scoring\n",
    "skfold = StratifiedKFold(n_splits=5,shuffle=True,random_state=5)\n",
    "scoring = {'Accuracy': make_scorer(accuracy_score)}\n",
    "\n",
    "# Ridge setup\n",
    "ridge_ = GridSearchCV(estimator=LogisticRegression(penalty='l2',solver='liblinear'),\n",
    "                     cv=skfold,\n",
    "                     scoring=scoring,\n",
    "                     n_jobs=1,\n",
    "                     param_grid=dict(C=np.arange(0.0001,1,0.1)),\n",
    "                               return_train_score=False,\n",
    "                           refit='Accuracy')\n",
    "\n",
    "# Tuning\n",
    "ridge_.fit(X_train,y_train)\n",
    "ridge_hyper = ridge_.best_params_['C'] # best hyperparam"
   ]
  },
  {
   "cell_type": "code",
   "execution_count": 8,
   "metadata": {},
   "outputs": [
    {
     "data": {
      "text/plain": [
       "mean_fit_time                0.109535\n",
       "std_fit_time                 0.026173\n",
       "mean_score_time              0.002891\n",
       "std_score_time               0.002834\n",
       "param_C                        0.0001\n",
       "params                  {'C': 0.0001}\n",
       "split0_test_Accuracy         0.672489\n",
       "split1_test_Accuracy         0.576419\n",
       "split2_test_Accuracy         0.624454\n",
       "split3_test_Accuracy         0.676856\n",
       "split4_test_Accuracy         0.676856\n",
       "mean_test_Accuracy           0.645415\n",
       "std_test_Accuracy            0.039774\n",
       "rank_test_Accuracy                  1\n",
       "Name: 0, dtype: object"
      ]
     },
     "execution_count": 8,
     "metadata": {},
     "output_type": "execute_result"
    }
   ],
   "source": [
    "CV_df = pd.DataFrame(ridge_.cv_results_)\n",
    "CV_df.loc[ridge_.best_index_]\n",
    "CV_df.loc[ridge_.best_index_,]"
   ]
  },
  {
   "cell_type": "markdown",
   "metadata": {},
   "source": [
    "### Permutation Procedures"
   ]
  },
  {
   "cell_type": "code",
   "execution_count": 9,
   "metadata": {},
   "outputs": [],
   "source": [
    "# Functions for permutations\n",
    "k = 1000\n",
    "\n",
    "def permute(x,classifier):\n",
    "    if x % 100 == 0:\n",
    "        print(\"*\",end=\"\")\n",
    "    yy = y_train.copy()\n",
    "    np.random.shuffle(yy)    \n",
    "\n",
    "    classifier.fit(X_train,yy)\n",
    "    # Back project model weights\n",
    "    orig_features = np.dot(mpfc_pca.components_.T,classifier.coef_[0])\n",
    "    return orig_features\n",
    "    \n",
    "def test_perms(x):\n",
    "    \"\"\"\n",
    "    calculate p_value\n",
    "    \"\"\"\n",
    "    perm_list = np.abs(x[:-1])\n",
    "    model_val = np.abs(x[-1]) # last row is true model\n",
    "    greater_equal = [i for i in perm_list if i >= model_val]\n",
    "    return len(greater_equal)/len(perm_list)"
   ]
  },
  {
   "cell_type": "code",
   "execution_count": 10,
   "metadata": {},
   "outputs": [
    {
     "name": "stdout",
     "output_type": "stream",
     "text": [
      "**********"
     ]
    }
   ],
   "source": [
    "# run permutations\n",
    "ridge_perm_classifier = LogisticRegression(penalty='l2',\n",
    "                                solver='liblinear',\n",
    "                                C=ridge_hyper\n",
    "                               )\n",
    "\n",
    "# Run permutation\n",
    "Perms = []\n",
    "for x in range(k):\n",
    "    Perms.append(permute(x, ridge_perm_classifier))\n",
    "\n",
    "# last row true model\n",
    "Perms.append(np.dot(mpfc_pca.components_.T,ridge_.best_estimator_.coef_[0]))"
   ]
  },
  {
   "cell_type": "markdown",
   "metadata": {},
   "source": [
    "### Plot Maps"
   ]
  },
  {
   "cell_type": "code",
   "execution_count": 11,
   "metadata": {},
   "outputs": [],
   "source": [
    "# get p-values and FDR correction\n",
    "Perms = np.array(Perms)\n",
    "sigs = np.apply_along_axis(arr=Perms,func1d=test_perms,axis=0)\n",
    "a,p_fdr,_,_ = multipletests(pvals=sigs,method='fdr_bh',alpha=0.05)"
   ]
  },
  {
   "cell_type": "code",
   "execution_count": 14,
   "metadata": {},
   "outputs": [
    {
     "data": {
      "text/plain": [
       "<nilearn.plotting.displays.XSlicer at 0x7fd9c28f5550>"
      ]
     },
     "execution_count": 14,
     "metadata": {},
     "output_type": "execute_result"
    },
    {
     "data": {
      "image/png": "[encoded data removed]",
      "text/plain": [
       "<Figure size 799.2x165.6 with 6 Axes>"
      ]
     },
     "metadata": {},
     "output_type": "display_data"
    }
   ],
   "source": [
    "# plotting\n",
    "mpfc_mask = image.load_img('Data/ROI/mPFC_resampled.nii')\n",
    "mpfc_masker = input_data.NiftiMasker(mask_img=mpfc_mask)\n",
    "mpfc_masker.fit_transform(mpfc_mask)\n",
    "\n",
    "Mapped = np.copy(Perms[-1,:])\n",
    "Mapped[np.where(p_fdr >= 0.05)] = 0\n",
    "\n",
    "threshed_map = mpfc_masker.inverse_transform(Mapped)\n",
    "\n",
    "plotting.plot_stat_map(\n",
    "    threshed_map, colorbar=True,draw_cross=False,\n",
    "    display_mode='x',cut_coords=[-6,-2,2,4],cmap='cyan_orange')"
   ]
  },
  {
   "cell_type": "code",
   "execution_count": 15,
   "metadata": {},
   "outputs": [],
   "source": [
    "threshed_map.to_filename('Data/MPFC_Ridge_threshed.nii')"
   ]
  },
  {
   "cell_type": "markdown",
   "metadata": {},
   "source": [
    "### Bootstrap Out of Sample Testing"
   ]
  },
  {
   "cell_type": "code",
   "execution_count": 14,
   "metadata": {},
   "outputs": [
    {
     "name": "stdout",
     "output_type": "stream",
     "text": [
      "Test Accuracy = 59.15, [53.33,64.67], std = 0.027089050678579838\n"
     ]
    }
   ],
   "source": [
    "T = 500\n",
    "boots = []\n",
    "\n",
    "for i in range(T):\n",
    "    # Bootstrap Sample\n",
    "    ix,y = zip(*[random.choice(list(enumerate(y_test))) for i in range(len(y_test))])\n",
    "    X = X_test[ix,:]\n",
    "\n",
    "    # Test Accuracy\n",
    "    accuracy = np.sum(y == ridge_.predict(X))/len(y) \n",
    "    boots.append(accuracy)\n",
    "    \n",
    "# Print bootstrap mean accuracy and CI\n",
    "alpha = 0.95\n",
    "lower = np.round(100*max(0.0, np.percentile(boots, 2.5)),2)\n",
    "upper = np.round(100*min(1.0, np.percentile(boots, 97.5)),2)\n",
    "acc = np.round(np.mean(boots) *100,2)\n",
    "print(f\"Test Accuracy = {acc}, [{lower},{upper}], std = {np.std(boots)}\")"
   ]
  },
  {
   "cell_type": "markdown",
   "metadata": {},
   "source": [
    "### Testing Gradient"
   ]
  },
  {
   "cell_type": "code",
   "execution_count": 12,
   "metadata": {},
   "outputs": [],
   "source": [
    "def get_std_coords(vals,coefs):\n",
    "    mpfc_x_coords = vals[0]\n",
    "    nmin = np.min(mpfc_x_coords)\n",
    "    nmax = np.max(mpfc_x_coords)\n",
    "    std_x_coords = [((val - nmin)/(nmax - nmin)) for val in mpfc_x_coords]\n",
    "\n",
    "    mpfc_y_coords = vals[1]\n",
    "    nmin = np.min(mpfc_y_coords)\n",
    "    nmax = np.max(mpfc_y_coords)\n",
    "    std_y_coords = [((val - nmin)/(nmax - nmin)) for val in mpfc_y_coords]\n",
    "    \n",
    "    mpfc_z_coords = vals[2]\n",
    "    nmin = np.min(mpfc_z_coords)\n",
    "    nmax = np.max(mpfc_z_coords)\n",
    "    std_z_coords = [((val - nmin)/(nmax - nmin)) for val in mpfc_z_coords]\n",
    "\n",
    "    return pd.DataFrame({\n",
    "        \"Weight\":coefs,\n",
    "        \"x\":std_x_coords,\n",
    "        \"y\":std_y_coords,\n",
    "        \"z\":std_z_coords\n",
    "    })\n",
    "    "
   ]
  },
  {
   "cell_type": "code",
   "execution_count": 54,
   "metadata": {},
   "outputs": [
    {
     "name": "stderr",
     "output_type": "stream",
     "text": [
      "/usr/local/anaconda3/lib/python3.7/site-packages/ipykernel_launcher.py:9: DeprecationWarning: get_data() is deprecated in favor of get_fdata(), which has a more predictable return type. To obtain get_data() behavior going forward, use numpy.asanyarray(img.dataobj).\n",
      "\n",
      "* deprecated from version: 3.0\n",
      "* Will raise <class 'nibabel.deprecator.ExpiredDeprecationError'> as of version: 5.0\n",
      "  if __name__ == '__main__':\n"
     ]
    },
    {
     "name": "stdout",
     "output_type": "stream",
     "text": [
      "****************************************************************************************************"
     ]
    }
   ],
   "source": [
    "cor_perms = []\n",
    "ix = 0\n",
    "for p in Perms:\n",
    "    ix += 1\n",
    "    if ix % 10 == 0:\n",
    "        print('*',end='')\n",
    "    unthreshed = mpfc_masker.inverse_transform(p)\n",
    "    z_coefs = mpfc_masker.fit_transform(unthreshed)[0]\n",
    "    z_3d = np.array(np.where(unthreshed.get_data() != 0))\n",
    "    z_df = get_std_coords(z_3d,z_coefs)\n",
    "    cor_perms.append(pearsonr(z_df['Weight'],z_df['z'])[0])"
   ]
  },
  {
   "cell_type": "code",
   "execution_count": 55,
   "metadata": {},
   "outputs": [
    {
     "name": "stdout",
     "output_type": "stream",
     "text": [
      "Pearson R: -0.08800480045486632, p = 0.03996003996003994\n"
     ]
    }
   ],
   "source": [
    "i = 0\n",
    "for p in cor_perms[:-1]:\n",
    "    if -1*p >= -1*cor_perms[-1]:\n",
    "        i += 1\n",
    "\n",
    "print(f\"Pearson R: {cor_perms[-1]}, p = {1 + i/len(cor_perms)-1}\")"
   ]
  },
  {
   "cell_type": "code",
   "execution_count": 2,
   "metadata": {},
   "outputs": [],
   "source": [
    "# Save z-coordinate mapping\n",
    "unthreshed = mpfc_masker.inverse_transform(Perms[-1,:])\n",
    "z_coefs = mpfc_masker.fit_transform(unthreshed)[0]\n",
    "z_3d = np.array(np.where(unthreshed.get_data() != 0))\n",
    "z_df = get_std_coords(z_3d,z_coefs)\n",
    "z_df.to_csv('Data/mpfc_weights_RidgePCA_xyz.csv')"
   ]
  },
  {
   "cell_type": "code",
   "execution_count": null,
   "metadata": {},
   "outputs": [],
   "source": []
  }
 ],
 "metadata": {
  "kernelspec": {
   "display_name": "Python 3",
   "language": "python",
   "name": "python3"
  },
  "language_info": {
   "codemirror_mode": {
    "name": "ipython",
    "version": 3
   },
   "file_extension": ".py",
   "mimetype": "text/x-python",
   "name": "python",
   "nbconvert_exporter": "python",
   "pygments_lexer": "ipython3",
   "version": "3.7.4"
  }
 },
 "nbformat": 4,
 "nbformat_minor": 2
}
